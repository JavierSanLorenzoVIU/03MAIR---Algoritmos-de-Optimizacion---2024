{
  "nbformat": 4,
  "nbformat_minor": 0,
  "metadata": {
    "colab": {
      "provenance": [],
      "include_colab_link": true
    },
    "kernelspec": {
      "name": "python3",
      "display_name": "Python 3"
    }
  },
  "cells": [
    {
      "cell_type": "markdown",
      "metadata": {
        "id": "view-in-github",
        "colab_type": "text"
      },
      "source": [
        "<a href=\"https://colab.research.google.com/github/JavierSanLorenzoVIU/03MAIR---Algoritmos-de-Optimizacion---2024/blob/main/Trabajo_Practico_Javier_SanLorenzo.ipynb\" target=\"_parent\"><img src=\"https://colab.research.google.com/assets/colab-badge.svg\" alt=\"Open In Colab\"/></a>"
      ]
    },
    {
      "cell_type": "markdown",
      "metadata": {
        "id": "hVbXYX-RfPWh"
      },
      "source": [
        "# Algoritmos de optimización - Trabajo Práctico<br>\n",
        "Nombre y Apellidos: Javier San Lorenzo Gómez  <br>\n",
        "Url: https://github.com/.../03MAIR---Algoritmos-de-Optimizacion---/tree/master/TrabajoPractico<br>\n",
        "\n",
        "Google Colab: https://github.com/JavierSanLorenzoVIU/03MAIR---Algoritmos-de-Optimizacion---2024/blob/main/Trabajo_Practico.ipynb <br>\n",
        "\n",
        "Problema:\n",
        ">1. Sesiones de doblaje <br>\n",
        ">2. Organizar los horarios de partidos de La Liga<br>\n",
        ">3. Configuración de Tribunales                                        "
      ]
    },
    {
      "cell_type": "markdown",
      "source": [
        "---\n",
        "\n",
        "###Descripción del problema:\n",
        "- # Organizar los horarios de partidos de La Liga\n",
        "\n",
        "---"
      ],
      "metadata": {
        "id": "-uo1BlDSqPBa"
      }
    },
    {
      "cell_type": "markdown",
      "source": [
        "# Modelo\n",
        "\n",
        "### 1. ¿Cómo represento el espacio de soluciones?\n",
        "El espacio de soluciones comprende todas las potenciales combinaciones de asignaciones de horarios para los partidos de fútbol, donde cada una representa una distribución única de horarios. Para representar el espacio de soluciones, se puede representar como una lista de listas. En esta representación, cada lista interna representaría un día y contendría los partidos programados para ese día.\n",
        "\n",
        "Esto simplificará la manipulación y la implementación de algoritmos genéticos más adelante.\n",
        "\n",
        "\n",
        "\n",
        "### 2. ¿Cual es la función objetivo?\n",
        "\n",
        "El enfoque del modelo se basa en probar un algoritmo genético. Para implementar este tipo de algoritmos, necesitaremos definir una función objetivo que refleje el objetivo del problema y una función de aptitud que evalúe qué tan buena es una solución dada en términos de esa función objetivo. Dado que en tu descripción el objetivo es maximizar la audiencia total, necesitaremos definir funciones relacionadas con la audiencia. Aquí están las funciones objetivo y de aptitud que podríamos usar:\n",
        "\n",
        "- ### **Función Objetivo**:\n",
        "La **función objetivo** se encarga de calcular el valor que se busca maximizar o minimizar en el problema. En este caso, queremos maximizar la audiencia total considerando los coeficientes de horario y los coeficientes de coincidencia. La función objetivo podría ser una función que calcule la audiencia total de acuerdo con la siguiente fórmula:\n",
        "\n",
        "$$ \\text{AudienciaTotal} = \\sum_{i=1}^{N} \\text{Audiencia}_i \\times \\text{PondHorario}_i \\times \\text{CoefCoincidencia}_i $$\n",
        "\n",
        "  * **N** → número de partidos.\n",
        "  * **Audiencia** → es la audiencia del partido \\(i\\) por categoría.\n",
        "  * **PondHorario** → es el coeficiente de ponderación del horario en el que se juega el partido \\(i\\).\n",
        "  * **CoefCoincidencia** → es el coeficiente de reducción de audiencia si existen coincidencias de partidos.\n",
        "  \n",
        "\n",
        "- ### **Función de Aptitud**:\n",
        "La función de aptitud evalúa qué tan buena es una solución en términos de la función objetivo. Para este problema, podríamos simplemente utilizar la audiencia total como valor de aptitud. Cuanto mayor sea la audiencia total, mejor será la solución. Entonces, la función de aptitud sería simplemente la audiencia total calculada por la función objetivo.\n",
        "\n",
        "Estas funciones serían esenciales para la implementación del algoritmo genético, ya que nos permitirían evaluar y comparar diferentes soluciones en cada generación.\n",
        "\n",
        "\n",
        "\n",
        "\n",
        "$$ \\text{FuncionAptitud} = \\text{AudienciaTotal} = \\sum_{i=1}^{N} \\text{A}_i \\times \\text{PondHorario}_i \\times \\text{CoefCoincidencia}_i $$\n",
        "\n",
        "A_i \\times P_i \\times C_i \\times H_{ij}\n",
        "\n",
        "\n",
        "\n",
        "<cod>\n",
        "def calcular_audiencia_total(horario, audiencias, PondHorario, CoefCoincidencia):\n",
        "    \"\"\"\n",
        "    Calcula la audiencia total de un horario dado.\n",
        "\n",
        "    Args:\n",
        "    - horario: Lista de listas que representa el horario de los partidos.\n",
        "    - audiencias: Lista de audiencias de los partidos por categoría.\n",
        "    - PondHorario: Lista de coeficientes de ponderación del horario.\n",
        "    - CoefCoincidencia: Lista de coeficientes de reducción de audiencia por coincidencia de partidos.\n",
        "\n",
        "    Returns:\n",
        "    - audiencia_total: Audiencia total del horario.\n",
        "    \"\"\"\n",
        "    audiencia_total = 0\n",
        "    for i, dia in enumerate(horario):\n",
        "        for partido in dia:\n",
        "            # Obtener el índice del partido y el coeficiente correspondiente\n",
        "            indice_partido = partido[0] - 1\n",
        "            coef_horario = PondHorario[i]\n",
        "            coef_coincidencia = CoefCoincidencia[indice_partido]\n",
        "            # Calcular la audiencia del partido y agregarla a la audiencia total\n",
        "            audiencia_total += audiencias[indice_partido] * coef_horario * coef_coincidencia\n",
        "    return audiencia_total\n",
        "\n",
        "def funcion_aptitud(horario, audiencias, PondHorario, CoefCoincidencia):\n",
        "    \"\"\"\n",
        "    Calcula la aptitud de un horario dado en términos de su audiencia total.\n",
        "\n",
        "    Args:\n",
        "    - horario: Lista de listas que representa el horario de los partidos.\n",
        "    - audiencias: Lista de audiencias de los partidos por categoría.\n",
        "    - PondHorario: Lista de coeficientes de ponderación del horario.\n",
        "    - CoefCoincidencia: Lista de coeficientes de reducción de audiencia por coincidencia de partidos.\n",
        "\n",
        "    Returns:\n",
        "    - aptitud: Valor de aptitud del horario.\n",
        "    \"\"\"\n",
        "    return calcular_audiencia_total(horario, audiencias, PondHorario, CoefCoincidencia)\n",
        "<cod>\n",
        "\n",
        "\n",
        "\n",
        "### 3. ¿Como implemento las restricciones?\n",
        "\n",
        "\n"
      ],
      "metadata": {
        "id": "Sbo9IqQtpaHZ"
      }
    },
    {
      "cell_type": "markdown",
      "source": [],
      "metadata": {
        "id": "67p_vszBposu"
      }
    },
    {
      "cell_type": "code",
      "metadata": {
        "id": "AiskKkzZfy4e"
      },
      "source": [
        "#Respuesta\n"
      ],
      "execution_count": null,
      "outputs": []
    },
    {
      "cell_type": "markdown",
      "source": [
        "#Análisis\n",
        "- ¿Que complejidad tiene el problema?. Orden de complejidad y Contabilizar el espacio de soluciones"
      ],
      "metadata": {
        "id": "HZz52wOppp-U"
      }
    },
    {
      "cell_type": "code",
      "source": [
        "#Respuesta\n"
      ],
      "metadata": {
        "id": "CZ-5BmpspttV"
      },
      "execution_count": null,
      "outputs": []
    },
    {
      "cell_type": "markdown",
      "source": [
        "#Diseño\n",
        "- ¿Que técnica utilizo? ¿Por qué?"
      ],
      "metadata": {
        "id": "ixEJUwH_pv7M"
      }
    },
    {
      "cell_type": "code",
      "source": [
        "#Respuesta"
      ],
      "metadata": {
        "id": "ZdKPjB9gp2BA"
      },
      "execution_count": null,
      "outputs": []
    }
  ]
}